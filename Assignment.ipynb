{
 "cells": [
  {
   "cell_type": "markdown",
   "id": "1a60aa17-67b7-458c-abec-b202e7bac9ad",
   "metadata": {},
   "source": [
    "## Practical Questions"
   ]
  },
  {
   "cell_type": "markdown",
   "id": "6d984f4b-25d5-4d45-ae88-6fe79df353ce",
   "metadata": {},
   "source": [
    " 1.Write a Python function that takes a list of numbers as input and returns the sum of all even numbers in the list."
   ]
  },
  {
   "cell_type": "code",
   "execution_count": 1,
   "id": "0dfcd4e4-810d-4919-82db-e4d8fc47e60e",
   "metadata": {},
   "outputs": [
    {
     "name": "stdout",
     "output_type": "stream",
     "text": [
      "12\n"
     ]
    }
   ],
   "source": [
    "def sum_of_even_numbers(numbers):\n",
    "    return sum(num for num in numbers if num % 2 == 0)\n",
    "numbers = [1, 2, 3, 4, 5, 6]\n",
    "result = sum_of_even_numbers(numbers)\n",
    "print(result) \n"
   ]
  },
  {
   "cell_type": "markdown",
   "id": "0bea8d60-4a24-4a0f-bc5e-e1dbc280fa0e",
   "metadata": {},
   "source": [
    " 2.Create a Python function that accepts a string and returns the reverse of that string."
   ]
  },
  {
   "cell_type": "code",
   "execution_count": 2,
   "id": "4b11d30a-54fb-492e-8625-82c33f7edb8b",
   "metadata": {},
   "outputs": [
    {
     "name": "stdout",
     "output_type": "stream",
     "text": [
      "olleh\n"
     ]
    }
   ],
   "source": [
    "def reverse_string(s):\n",
    "    return s[::-1]\n",
    "\n",
    "input_string = \"hello\"\n",
    "reversed_string = reverse_string(input_string)\n",
    "print(reversed_string)  \n"
   ]
  },
  {
   "cell_type": "markdown",
   "id": "fbabcad7-91c1-4e25-ba55-5f8b62f839c3",
   "metadata": {},
   "source": [
    "3. Implement a Python function that takes a list of integers and returns a new list containing the squares of\r\n",
    "each number."
   ]
  },
  {
   "cell_type": "code",
   "execution_count": 3,
   "id": "467674f0-cc1d-469c-82d5-abe828e401ea",
   "metadata": {},
   "outputs": [
    {
     "name": "stdout",
     "output_type": "stream",
     "text": [
      "[1, 4, 9, 16]\n"
     ]
    }
   ],
   "source": [
    "def square_numbers(numbers):\n",
    "    return [num ** 2 for num in numbers]\n",
    "    \n",
    "input_list = [1, 2, 3, 4]\n",
    "squared_list = square_numbers(input_list)\n",
    "print(squared_list)  \n"
   ]
  },
  {
   "cell_type": "markdown",
   "id": "07ce04f9-c88f-43d5-809e-8e670747e1c2",
   "metadata": {},
   "source": [
    "4. Write a Python function that checks if a given number is prime or not from 1 to 200."
   ]
  },
  {
   "cell_type": "code",
   "execution_count": 4,
   "id": "0e200940-e014-4bb0-b434-73ceb413b83a",
   "metadata": {},
   "outputs": [
    {
     "name": "stdin",
     "output_type": "stream",
     "text": [
      "Enter a number between 1 and 200 (or type 0 to exit):  6\n"
     ]
    },
    {
     "name": "stdout",
     "output_type": "stream",
     "text": [
      "6 is not a prime number.\n"
     ]
    },
    {
     "name": "stdin",
     "output_type": "stream",
     "text": [
      "Enter a number between 1 and 200 (or type 0 to exit):  0\n"
     ]
    },
    {
     "name": "stdout",
     "output_type": "stream",
     "text": [
      "Exiting the program.\n"
     ]
    }
   ],
   "source": [
    "def is_prime(n):\n",
    "    if n <= 1:\n",
    "        return False\n",
    "    if n <= 3:\n",
    "        return True\n",
    "    if n % 2 == 0 or n % 3 == 0:\n",
    "        return False\n",
    "    i = 5\n",
    "    while i * i <= n:\n",
    "        if n % i == 0 or n % (i + 2) == 0:\n",
    "            return False\n",
    "        i += 6\n",
    "    return True\n",
    "\n",
    "def check_prime_in_range(n):\n",
    "    if 1 <= n <= 200:\n",
    "        return is_prime(n)\n",
    "    else:\n",
    "        raise ValueError(\"Number must be between 1 and 200\")\n",
    "\n",
    "def main():\n",
    "    while True:\n",
    "        try:\n",
    "            # Take input from the user\n",
    "            number = int(input(\"Enter a number between 1 and 200 (or type 0 to exit): \"))\n",
    "            \n",
    "            # Check if the user wants to exit\n",
    "            if number == 0:\n",
    "                print(\"Exiting the program.\")\n",
    "                break\n",
    "            \n",
    "            # Check if the number is prime\n",
    "            if check_prime_in_range(number):\n",
    "                print(f\"{number} is a prime number.\")\n",
    "            else:\n",
    "                print(f\"{number} is not a prime number.\")\n",
    "        \n",
    "        except ValueError as e:\n",
    "            print(e)\n",
    "        except ValueError:\n",
    "            print(\"Invalid input! Please enter an integer.\")\n",
    "\n",
    "if __name__ == \"__main__\":\n",
    "    main()\n"
   ]
  },
  {
   "cell_type": "markdown",
   "id": "b0a8777d-83a2-444b-8088-7f7cda06ef8d",
   "metadata": {},
   "source": [
    "5. Create an iterator class in Python that generates the Fibonacci sequence up to a specified number of\r\n",
    "terms."
   ]
  },
  {
   "cell_type": "code",
   "execution_count": 5,
   "id": "79fd9a2f-fcda-4099-8427-0f7074990acb",
   "metadata": {},
   "outputs": [
    {
     "name": "stdout",
     "output_type": "stream",
     "text": [
      "0\n",
      "1\n",
      "1\n",
      "1\n",
      "2\n",
      "3\n",
      "5\n",
      "8\n",
      "13\n",
      "21\n"
     ]
    }
   ],
   "source": [
    "class FibonacciIterator:\n",
    "    def __init__(self, n_terms):\n",
    "        self.n_terms = n_terms\n",
    "        self.current = 0\n",
    "        self.a, self.b = 0, 1\n",
    "\n",
    "    def __iter__(self):\n",
    "        return self\n",
    "\n",
    "    def __next__(self):\n",
    "        if self.current >= self.n_terms:\n",
    "            raise StopIteration\n",
    "        if self.current == 0:\n",
    "            self.current += 1\n",
    "            return 0\n",
    "        elif self.current == 1:\n",
    "            self.current += 1\n",
    "            return 1\n",
    "        else:\n",
    "            self.a, self.b = self.b, self.a + self.b\n",
    "            self.current += 1\n",
    "            return self.a\n",
    "\n",
    "# Example usage\n",
    "n_terms = 10\n",
    "fib_iter = FibonacciIterator(n_terms)\n",
    "\n",
    "for number in fib_iter:\n",
    "    print(number)\n"
   ]
  },
  {
   "cell_type": "markdown",
   "id": "84510b07-0599-4645-b2cf-f3683a33423c",
   "metadata": {},
   "source": [
    "6. Write a generator function in Python that yields the powers of 2 up to a given exponent."
   ]
  },
  {
   "cell_type": "code",
   "execution_count": 6,
   "id": "a65256ef-d8cb-4732-84fa-10a9ea136eb9",
   "metadata": {},
   "outputs": [
    {
     "name": "stdin",
     "output_type": "stream",
     "text": [
      "Enter the maximum exponent:  5\n"
     ]
    },
    {
     "name": "stdout",
     "output_type": "stream",
     "text": [
      "Powers of 2 up to 2^5:\n",
      "1\n",
      "2\n",
      "4\n",
      "8\n",
      "16\n",
      "32\n"
     ]
    }
   ],
   "source": [
    "def powers_of_two(max_exponent):\n",
    "    exponent = 0\n",
    "    while exponent <= max_exponent:\n",
    "        yield 2 ** exponent\n",
    "        exponent += 1\n",
    "\n",
    "def main():\n",
    "    try:\n",
    "        # Take input from the user\n",
    "        max_exponent = int(input(\"Enter the maximum exponent: \"))\n",
    "        \n",
    "        # Validate input to ensure it is non-negative\n",
    "        if max_exponent < 0:\n",
    "            print(\"Exponent must be a non-negative integer.\")\n",
    "            return\n",
    "        \n",
    "        # Generate and print powers of two\n",
    "        print(f\"Powers of 2 up to 2^{max_exponent}:\")\n",
    "        for power in powers_of_two(max_exponent):\n",
    "            print(power)\n",
    "    \n",
    "    except ValueError:\n",
    "        print(\"Invalid input! Please enter an integer.\")\n",
    "\n",
    "if __name__ == \"__main__\":\n",
    "    main()\n"
   ]
  },
  {
   "cell_type": "markdown",
   "id": "36600c23-e2a2-4ffc-adce-08b9e9e3ea1e",
   "metadata": {},
   "source": [
    "7. Implement a generator function that reads a file line by line and yields each line as a string."
   ]
  },
  {
   "cell_type": "code",
   "execution_count": 10,
   "id": "2bd1ce90-1136-4fb2-bc00-9928a6dd9f87",
   "metadata": {},
   "outputs": [
    {
     "name": "stdout",
     "output_type": "stream",
     "text": [
      "Error: The file 'word.txt' was not found.\n"
     ]
    }
   ],
   "source": [
    "def read_file_lines(file_path):\n",
    "    try:\n",
    "        with open(file_path, 'r') as file:\n",
    "            for line in file:\n",
    "                yield line.strip()  # Strip trailing newline characters\n",
    "    except FileNotFoundError:\n",
    "        print(f\"Error: The file '{file_path}' was not found.\")\n",
    "    except IOError:\n",
    "        print(f\"Error: Could not read the file '{file_path}'.\")\n",
    "\n",
    "# Example usage\n",
    "file_path = 'word.txt'  # Replace with your file path\n",
    "for line in read_file_lines(file_path):\n",
    "    print(line)\n"
   ]
  },
  {
   "cell_type": "markdown",
   "id": "1333dfd8-50ea-4eee-a110-47b3396708d2",
   "metadata": {},
   "source": [
    "8. Use a lambda function in Python to sort a list of tuples based on the second element of each tuple.\n"
   ]
  },
  {
   "cell_type": "code",
   "execution_count": 13,
   "id": "70db8e70-3f89-4454-9ab6-241c1ab4c902",
   "metadata": {},
   "outputs": [
    {
     "name": "stdout",
     "output_type": "stream",
     "text": [
      "Sorted list: [(3, 1), (2, 2), (1, 3)]\n"
     ]
    }
   ],
   "source": [
    "# List of tuples\n",
    "tuples_list = [(1, 3), (2, 2), (3, 1)]\n",
    "\n",
    "# Sort the list based on the second element of each tuple using lambda\n",
    "tuples_list.sort(key=lambda x: x[1])\n",
    "\n",
    "print(\"Sorted list:\", tuples_list)\n"
   ]
  },
  {
   "cell_type": "markdown",
   "id": "9792f8be-25ec-4fdd-8d99-0449fcedadf5",
   "metadata": {},
   "source": [
    "9. Write a Python program that uses `map()` to convert a list of temperatures from Celsius to Fahrenheit."
   ]
  },
  {
   "cell_type": "code",
   "execution_count": 14,
   "id": "79ad9b91-e5f5-48a7-b31d-4a3b5dfaa299",
   "metadata": {},
   "outputs": [
    {
     "name": "stdout",
     "output_type": "stream",
     "text": [
      "Temperatures in Fahrenheit: [32.0, 68.0, 98.6, 212.0]\n"
     ]
    }
   ],
   "source": [
    "def celsius_to_fahrenheit(celsius):\n",
    "    return (celsius * 9/5) + 32\n",
    "\n",
    "# List of temperatures in Celsius\n",
    "celsius_temperatures = [0, 20, 37, 100]\n",
    "\n",
    "# Use map() to apply the conversion function to each temperature\n",
    "fahrenheit_temperatures = map(celsius_to_fahrenheit, celsius_temperatures)\n",
    "\n",
    "# Convert the map object to a list and print the result\n",
    "fahrenheit_temperatures_list = list(fahrenheit_temperatures)\n",
    "print(\"Temperatures in Fahrenheit:\", fahrenheit_temperatures_list)\n"
   ]
  },
  {
   "cell_type": "markdown",
   "id": "c801e0e4-d35f-4cf6-b5bd-26af979da27f",
   "metadata": {},
   "source": [
    "10. Create a Python program that uses `filter()` to remove all the vowels from a given string."
   ]
  },
  {
   "cell_type": "code",
   "execution_count": 15,
   "id": "c061f9f7-8974-42e7-a594-6b8fc8890e55",
   "metadata": {},
   "outputs": [
    {
     "name": "stdout",
     "output_type": "stream",
     "text": [
      "Temperatures in Fahrenheit: [32.0, 68.0, 98.6, 212.0]\n"
     ]
    }
   ],
   "source": [
    "def celsius_to_fahrenheit(celsius):\n",
    "    return (celsius * 9/5) + 32\n",
    "\n",
    "# List of temperatures in Celsius\n",
    "celsius_temperatures = [0, 20, 37, 100]\n",
    "\n",
    "# Use map() to apply the conversion function to each temperature\n",
    "fahrenheit_temperatures = map(celsius_to_fahrenheit, celsius_temperatures)\n",
    "\n",
    "# Convert the map object to a list and print the result\n",
    "fahrenheit_temperatures_list = list(fahrenheit_temperatures)\n",
    "print(\"Temperatures in Fahrenheit:\", fahrenheit_temperatures_list)\n"
   ]
  },
  {
   "cell_type": "markdown",
   "id": "c2ab428f-1bc1-4e43-829f-a8c1a4212f5f",
   "metadata": {},
   "source": [
    "10. Create a Python program that uses `filter()` to remove all the vowels from a given string."
   ]
  },
  {
   "cell_type": "markdown",
   "id": "317e4f77-e4d6-48c6-897e-8059d552e23b",
   "metadata": {},
   "source": [
    "def is_not_vowel(char):\n",
    "    # Define the set of vowels\n",
    "    vowels = \"aeiouAEIOU\"\n",
    "    # Return True if char is not a vowel\n",
    "    return char not in vowels\n",
    "\n",
    "def remove_vowels(input_string):\n",
    "    # Use filter to apply the is_not_vowel function to each character\n",
    "    filtered_chars = filter(is_not_vowel, input_string)\n",
    "    # Join the filtered characters back into a string\n",
    "    return ''.join(filtered_chars)\n",
    "\n",
    "# Example usage\n",
    "input_string = \"Hello World\"\n",
    "result_string = remove_vowels(input_string)\n",
    "print(\"String without vowels:\", result_string)\n"
   ]
  },
  {
   "cell_type": "markdown",
   "id": "2c2148fe-8059-438e-87e4-2c713134ae20",
   "metadata": {},
   "source": [
    "11.Imagine an accounting routine used in a book shop. It works on a list with sublists"
   ]
  },
  {
   "cell_type": "code",
   "execution_count": 1,
   "id": "ae9d1387-ebd0-4675-9433-316c7ddd46a5",
   "metadata": {},
   "outputs": [
    {
     "name": "stdout",
     "output_type": "stream",
     "text": [
      "Processed orders: [(1, 60), (2, 70), (3, 85), (4, 60)]\n"
     ]
    }
   ],
   "source": [
    "def adjust_order(order):\n",
    "    order_number, title_and_author, quantity, price_per_item = order\n",
    "    total_price = price_per_item * quantity\n",
    "    # Increase the total price by 10€ if it's less than 100€\n",
    "    if total_price < 100:\n",
    "        total_price += 10\n",
    "    return (order_number, total_price)\n",
    "\n",
    "# Example list of orders\n",
    "orders = [\n",
    "    [1, \"Book A by Author X\", 5, 10],\n",
    "    [2, \"Book B by Author Y\", 3, 20],\n",
    "    [3, \"Book C by Author Z\", 15, 5],\n",
    "    [4, \"Book D by Author W\", 1, 50]\n",
    "]\n",
    "\n",
    "# Use map with a lambda function to process the orders\n",
    "result = list(map(lambda order: adjust_order(order), orders))\n",
    "\n",
    "print(\"Processed orders:\", result)\n"
   ]
  }
 ],
 "metadata": {
  "kernelspec": {
   "display_name": "Python 3 (ipykernel)",
   "language": "python",
   "name": "python3"
  },
  "language_info": {
   "codemirror_mode": {
    "name": "ipython",
    "version": 3
   },
   "file_extension": ".py",
   "mimetype": "text/x-python",
   "name": "python",
   "nbconvert_exporter": "python",
   "pygments_lexer": "ipython3",
   "version": "3.12.4"
  }
 },
 "nbformat": 4,
 "nbformat_minor": 5
}
